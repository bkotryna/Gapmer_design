{
 "cells": [
  {
   "cell_type": "markdown",
   "metadata": {},
   "source": [
    "# Create a tool to help design LNA gapmers\n",
    "\n",
    "## Input = a long-ish nucleic acid sequence\n",
    "\n",
    "Programme asks the user to paste the input sequence\n",
    "\n",
    "## Output = all possible sequence stretches of length X-nt\n",
    "\n",
    "Programme asks the user to input the desired length of the stretches (this should be 16nt for typical gapmers, for example).\n",
    "\n",
    "Programme outputs an Excel spreadsheet with all the sequence stretches written out in a single column, with their names in an adjacent column (eg out_1, out_2, ... etc)"
   ]
  },
  {
   "cell_type": "markdown",
   "metadata": {},
   "source": [
    "# (Intended) Outline of steps\n",
    "\n",
    "## 1. Read in the input sequence\n",
    "\n",
    "Ask the user to paste it in.\n",
    "\n",
    "## 2. Read in the length of output stretches\n",
    "\n",
    "Ask the user for the desired length of input stretches\n",
    "\n",
    "## 3. Parse the input\n",
    "\n",
    "Eg split off the Fasta sequence name - could then use it later in some output\n",
    "\n",
    "Extract the nucleic acid sequence. Eg ignore spaces, line gaps, special characters - just go along collecting letters\n",
    "\n",
    "Generate a warning message if the sequence isn't all-RNA or all-DNA (ie if it contains letters outside the ATCG set or the AUCG set)\n",
    "\n",
    "\n",
    "## 4. Create a dataframe to store outputs\n",
    "\n",
    "Just an empty Pandas dataframe with a column for the sequence and a column for sequence name\n",
    "\n",
    "## 5. Create sequence stretches\n",
    "\n",
    "Scan along the extracted sequence in X-character-long window and write them out into the dataframe\n",
    "\n",
    "\n",
    "## 6. Save the dataframe as an Excel spreadsheet\n",
    "\n",
    "Create a new Excel file. Could use Fasta sequence name to name it, if this was given. Else just a default name.\n",
    "\n",
    "Would be cool to incorporate today's date in the naming - Python might have something to fetch this?\n",
    "\n",
    "\n",
    "## 7. Generate & print extra bits of output info\n",
    "\n",
    "Eg was everything okay - was it all DNA / RNA / mix of both / had extra issues?\n",
    "Eg the number of sequence stretches generated\n",
    "Eg the Excel file name that's been generated"
   ]
  },
  {
   "cell_type": "code",
   "execution_count": 8,
   "metadata": {},
   "outputs": [],
   "source": [
    "import pandas as pd\n",
    "import re"
   ]
  },
  {
   "cell_type": "markdown",
   "metadata": {},
   "source": [
    "## Define functions used later"
   ]
  },
  {
   "cell_type": "code",
   "execution_count": 9,
   "metadata": {},
   "outputs": [],
   "source": [
    "# define function to transform input sequence into one neat string of letters\n",
    "# 1) remove line breaks and white spaces\n",
    "# 2) check for special characters => (a) remove, (b) print a warning\n",
    "# 3) check for non-base letetrs => (a) remove, (b) print a warning\n",
    "# 4) check if it's DNA / RNA / a mix => (a) make mix into DNA, (b) print notification on the outcome\n",
    "\n",
    "def seq_formater (user_data):\n",
    "    \n",
    "    import re\n",
    "    \n",
    "    # remove line breaks and white spaces\n",
    "    single_line = user_data.replace('\\n', '')\n",
    "    #print(single_line)\n",
    "    no_spaces = ''.join(single_line.split())\n",
    "    #print(no_spaces)\n",
    "    \n",
    "    \n",
    "    \n",
    "    # check for non-letter characters\n",
    "    \n",
    "    letters_only = re.sub(\"[^a-zA-Z]\", \"\", no_spaces)\n",
    "    if letters_only != no_spaces:\n",
    "        print ('\\nWarning: your sequence contained non-letter characters.\\nThese have now been removed.')\n",
    "    else:\n",
    "        print ('\\nNo special characters in your sequence, yay.')\n",
    "    #print(letters_only)\n",
    "    \n",
    "    \n",
    "    \n",
    "    # check for non-DNA/RNA characters\n",
    "\n",
    "    bases_only = re.sub(\"[^a,A,c,C,g,G,t,T,u,U]\", \"\", letters_only)\n",
    "    if bases_only != letters_only:\n",
    "        print ('\\nWarning: your sequence contained non-base letters. That\\'s concerning.\\nStill, these have now been removed.')\n",
    "    else:\n",
    "        print ('\\nNo non-base letters in your sequence, yay.')\n",
    "    #print(bases_only)\n",
    "    \n",
    "    \n",
    "    \n",
    "    # check for DNA-only or RNA-only characters\n",
    "\n",
    "    DNA_only = re.sub(\"[u,U]\", \"T\", bases_only)\n",
    "    RNA_only = re.sub(\"[t,T]\", \"U\", bases_only)\n",
    "    \n",
    "    if DNA_only == bases_only:\n",
    "        formated_seq = DNA_only\n",
    "        print ('\\nLooks like your submitted sequence is DNA.')\n",
    "    elif RNA_only == bases_only:\n",
    "        formated_seq = RNA_only\n",
    "        print ('\\nLooks like your submitted sequence is RNA.')\n",
    "    else:\n",
    "        formated_seq = DNA_only\n",
    "        print('\\nLooks like your submitted sequence was a mix of RNA and DNA. It\\'s now been converted to DNA.')\n",
    "\n",
    "    \n",
    "    #make seqeunce all upper-case (required by QIAgen, for example)\n",
    "    formated_seq = formated_seq.upper()\n",
    "    \n",
    "        \n",
    "    #print('\\nThe final formated input sequence is:\\n', formated_seq, '\\n')    \n",
    "           \n",
    "        \n",
    "        \n",
    "    return formated_seq"
   ]
  },
  {
   "cell_type": "code",
   "execution_count": 10,
   "metadata": {},
   "outputs": [],
   "source": [
    "# define function to make reverse complement\n",
    "\n",
    "def rev_comp(sequence):\n",
    "    print(len(sequence))\n",
    "    \n",
    "    reverse_complement = \"\"\n",
    "    for i in range(len(sequence)):       \n",
    "        old_letter = sequence[i]\n",
    "        \n",
    "        if old_letter == \"a\" or old_letter == \"A\":\n",
    "            new_letter = \"T\"\n",
    "        if old_letter == \"c\" or old_letter == \"C\":\n",
    "            new_letter = \"G\"\n",
    "        if old_letter == \"g\" or old_letter == \"G\":\n",
    "            new_letter = \"C\"\n",
    "        if old_letter == \"t\" or old_letter == \"T\" or old_letter == \"u\" or old_letter == \"U\":\n",
    "            new_letter = \"A\" \n",
    "                        \n",
    "        reverse_complement = new_letter + reverse_complement\n",
    "    return reverse_complement"
   ]
  },
  {
   "cell_type": "code",
   "execution_count": 11,
   "metadata": {},
   "outputs": [],
   "source": [
    "# define function to convert sequence ends to LNA format as requested\n",
    "# in this case, it's IDT and QIAgen format: +A\n",
    "\n",
    "def LNAse_IDT(sequence):\n",
    "    gapmer = \"\"\n",
    "    i = 1\n",
    "    #print(len(sequence))\n",
    "    \n",
    "    while i <= LNA_5:\n",
    "        old_letter = sequence[i-1]\n",
    "        new_letter = \"+\" + old_letter\n",
    "        gapmer += new_letter\n",
    "        i += 1\n",
    "    #print(gapmer)\n",
    "    #print(i)\n",
    "    \n",
    "    while i > LNA_5 and i <= len(sequence) - LNA_3:\n",
    "        old_letter = sequence[i-1]\n",
    "        new_letter = old_letter\n",
    "        gapmer += new_letter\n",
    "        i += 1\n",
    "    #print(gapmer)\n",
    "    #print(i)\n",
    "    \n",
    "    while i >= (len(sequence) - LNA_3 + 1) and i <= len(sequence):\n",
    "        old_letter = sequence[i-1]\n",
    "        new_letter = \"+\" + old_letter\n",
    "        gapmer += new_letter\n",
    "        i += 1\n",
    "    #print(gapmer)\n",
    "    #print(i)\n",
    "    \n",
    "    return gapmer  \n",
    "    "
   ]
  },
  {
   "cell_type": "code",
   "execution_count": 12,
   "metadata": {},
   "outputs": [],
   "source": [
    "# define function to convert sequence ends to LNA format as requested\n",
    "# in this case, it's Eurogentec format: {A}\n",
    "\n",
    "def LNAse_Eurogentec(sequence):\n",
    "    gapmer = \"\"\n",
    "    i = 1\n",
    "    #print(len(sequence))\n",
    "    \n",
    "    while i <= LNA_5:\n",
    "        old_letter = sequence[i-1]\n",
    "        new_letter = \"{\" + old_letter + \"}\"\n",
    "        gapmer += new_letter\n",
    "        i += 1\n",
    "    #print(gapmer)\n",
    "    #print(i)\n",
    "    \n",
    "    while i > LNA_5 and i <= len(sequence) - LNA_3:\n",
    "        old_letter = sequence[i-1]\n",
    "        new_letter = old_letter\n",
    "        gapmer += new_letter\n",
    "        i += 1\n",
    "    #print(gapmer)\n",
    "    #print(i)\n",
    "    \n",
    "    while i >= (len(sequence) - LNA_3 + 1) and i <= len(sequence):\n",
    "        old_letter = sequence[i-1]\n",
    "        new_letter = \"{\" + old_letter + \"}\"\n",
    "        gapmer += new_letter\n",
    "        i += 1\n",
    "    #print(gapmer)\n",
    "    #print(i)\n",
    "    \n",
    "    return gapmer  "
   ]
  },
  {
   "cell_type": "code",
   "execution_count": 13,
   "metadata": {},
   "outputs": [],
   "source": [
    "# define function to convert sequence ends to LNA format as requested\n",
    "# in this case, it's Sigma format: [+A]\n",
    "\n",
    "def LNAse_Sigma(sequence):\n",
    "    gapmer = \"\"\n",
    "    i = 1\n",
    "    #print(len(sequence))\n",
    "    \n",
    "    while i <= LNA_5:\n",
    "        old_letter = sequence[i-1]\n",
    "        new_letter = \"[+\" + old_letter + \"]\"\n",
    "        gapmer += new_letter\n",
    "        i += 1\n",
    "    #print(gapmer)\n",
    "    #print(i)\n",
    "    \n",
    "    while i > LNA_5 and i <= len(sequence) - LNA_3:\n",
    "        old_letter = sequence[i-1]\n",
    "        new_letter = old_letter\n",
    "        gapmer += new_letter\n",
    "        i += 1\n",
    "    #print(gapmer)\n",
    "    #print(i)\n",
    "    \n",
    "    while i >= (len(sequence) - LNA_3 + 1) and i <= len(sequence):\n",
    "        old_letter = sequence[i-1]\n",
    "        new_letter = \"[+\" + old_letter + \"]\"\n",
    "        gapmer += new_letter\n",
    "        i += 1\n",
    "    #print(gapmer)\n",
    "    #print(i)\n",
    "    \n",
    "    return gapmer  "
   ]
  },
  {
   "cell_type": "code",
   "execution_count": 14,
   "metadata": {},
   "outputs": [],
   "source": [
    "# define function to convert sequence ends to LNA format as requested\n",
    "# in this case, it's Sigma format: [+A]\n",
    "\n",
    "def LNAse_Sigma_PS(sequence):\n",
    "    gapmer = \"\"\n",
    "    i = 1\n",
    "    #print(len(sequence))\n",
    "    \n",
    "    while i <= LNA_5:\n",
    "        old_letter = sequence[i-1]\n",
    "        new_letter = \"[+\" + old_letter + \"]\"\n",
    "        gapmer = gapmer + new_letter + '*'\n",
    "        i += 1\n",
    "    #print(gapmer)\n",
    "    #print(i)\n",
    "    \n",
    "    while i > LNA_5 and i <= len(sequence) - LNA_3:\n",
    "        old_letter = sequence[i-1]\n",
    "        new_letter = old_letter\n",
    "        gapmer = gapmer + new_letter + '*'\n",
    "        i += 1\n",
    "    #print(gapmer)\n",
    "    #print(i)\n",
    "    \n",
    "    while i >= (len(sequence) - LNA_3 + 1) and i < len(sequence):\n",
    "        old_letter = sequence[i-1]\n",
    "        new_letter = \"[+\" + old_letter + \"]\"\n",
    "        gapmer = gapmer + new_letter + '*'\n",
    "        i += 1\n",
    "    \n",
    "    if i >= (len(sequence) - LNA_3 + 1) and i == len(sequence):\n",
    "        old_letter = sequence[i-1]\n",
    "        new_letter = \"[+\" + old_letter + \"]\"\n",
    "        gapmer = gapmer + new_letter\n",
    "        i += 1\n",
    "    \n",
    "    \n",
    "    #print(gapmer)\n",
    "    #print(i)\n",
    "    \n",
    "    return gapmer  "
   ]
  },
  {
   "cell_type": "markdown",
   "metadata": {},
   "source": [
    "## Run the programme"
   ]
  },
  {
   "cell_type": "code",
   "execution_count": 15,
   "metadata": {},
   "outputs": [
    {
     "name": "stdout",
     "output_type": "stream",
     "text": [
      "\n",
      "Welcome to the LNA gapmer target-generator!\n",
      "\n",
      "\n"
     ]
    }
   ],
   "source": [
    "# Print a welcome message\n",
    "\n",
    "welcome_message = \"\\nWelcome to the LNA gapmer target-generator!\\n\\n\"\n",
    "print(welcome_message)"
   ]
  },
  {
   "cell_type": "code",
   "execution_count": 16,
   "metadata": {},
   "outputs": [],
   "source": [
    "# Get the name of the user sequence\n",
    "\n",
    "#title = input(\"\\nWhat's the name of your nucleic acid sequence?\\n\\n\")"
   ]
  },
  {
   "cell_type": "code",
   "execution_count": 17,
   "metadata": {},
   "outputs": [
    {
     "name": "stdout",
     "output_type": "stream",
     "text": [
      "\n",
      "Please paste your nucleic acid sequence:\n",
      "atcgttcgtagctgctgctggtcc\n"
     ]
    }
   ],
   "source": [
    "# Get user sequence\n",
    "\n",
    "user_data = input(\"\\nPlease paste your nucleic acid sequence:\\n\")"
   ]
  },
  {
   "cell_type": "code",
   "execution_count": 18,
   "metadata": {},
   "outputs": [
    {
     "name": "stdout",
     "output_type": "stream",
     "text": [
      "\n",
      "No special characters in your sequence, yay.\n",
      "\n",
      "No non-base letters in your sequence, yay.\n",
      "\n",
      "Looks like your submitted sequence is DNA.\n",
      "\n",
      "Your formated sequence is\n",
      "ATCGTTCGTAGCTGCTGCTGGTCC\n",
      "\n",
      "The length of your sequence is 24 nt.\n",
      "\n"
     ]
    }
   ],
   "source": [
    "# format inout sequence\n",
    "formated_seq = seq_formater (user_data)\n",
    "\n",
    "print(\"\\nYour formated sequence is\\n\", formated_seq, \"\\n\", sep=\"\")\n",
    "print(\"The length of your sequence is \", len(formated_seq), \" nt.\\n\", sep=\"\")"
   ]
  },
  {
   "cell_type": "code",
   "execution_count": 19,
   "metadata": {},
   "outputs": [
    {
     "name": "stdout",
     "output_type": "stream",
     "text": [
      "\n",
      "Desired length of the gapmer:\t24\n"
     ]
    }
   ],
   "source": [
    "# Get the desired length of sequence stretches\n",
    "\n",
    "stretch_length = int(input(\"\\nDesired length of the gapmer:\\t\"))"
   ]
  },
  {
   "cell_type": "code",
   "execution_count": 20,
   "metadata": {
    "scrolled": true
   },
   "outputs": [
    {
     "name": "stdout",
     "output_type": "stream",
     "text": [
      "Example stretches:\n",
      "['ATCGTTCGTAGCTGCTGCTGGTCC']\n",
      "['ATCGTTCGTAGCTGCTGCTGGTCC']\n",
      "\n",
      "Number of stretches generated is 1.\n"
     ]
    }
   ],
   "source": [
    "# Generate sequence stretches\n",
    "\n",
    "stretches = [formated_seq[i:i+stretch_length] for i in range(len(formated_seq)-(stretch_length-1))]\n",
    "stretch_count = len(stretches)\n",
    "\n",
    "print(\"Example stretches:\")\n",
    "print (stretches[0:2])\n",
    "print (stretches [-2:])\n",
    "\n",
    "print(\"\\nNumber of stretches generated is \", stretch_count, '.', sep=\"\")"
   ]
  },
  {
   "cell_type": "code",
   "execution_count": 21,
   "metadata": {},
   "outputs": [
    {
     "name": "stdout",
     "output_type": "stream",
     "text": [
      "\n",
      "How many LNA nucleotides on the 5' end?\t4\n",
      "How many LNA nucleotides on the 3' end?\t4\n",
      "\n",
      "Okay, this will leave 16 nt of DNA in the middle of the gapmer.\n"
     ]
    }
   ],
   "source": [
    "# ask how many LNAs to put in\n",
    "\n",
    "LNA_5 = int(input(\"\\nHow many LNA nucleotides on the 5' end?\\t\"))\n",
    "LNA_3 = int(input(\"How many LNA nucleotides on the 3' end?\\t\"))\n",
    "\n",
    "print(\"\\nOkay, this will leave \", stretch_length - LNA_5 - LNA_3, \" nt of DNA in the middle of the gapmer.\", sep=\"\")"
   ]
  },
  {
   "cell_type": "code",
   "execution_count": 22,
   "metadata": {},
   "outputs": [
    {
     "data": {
      "text/html": [
       "<div>\n",
       "<style scoped>\n",
       "    .dataframe tbody tr th:only-of-type {\n",
       "        vertical-align: middle;\n",
       "    }\n",
       "\n",
       "    .dataframe tbody tr th {\n",
       "        vertical-align: top;\n",
       "    }\n",
       "\n",
       "    .dataframe thead th {\n",
       "        text-align: right;\n",
       "    }\n",
       "</style>\n",
       "<table border=\"1\" class=\"dataframe\">\n",
       "  <thead>\n",
       "    <tr style=\"text-align: right;\">\n",
       "      <th></th>\n",
       "      <th>Target stretch name</th>\n",
       "      <th>Target stretch sequence</th>\n",
       "      <th>Reverse complement</th>\n",
       "      <th>LNA gapmer for IDT and QIAgen</th>\n",
       "      <th>LNA gapmer for Eurogentec</th>\n",
       "      <th>LNA gapmer for Sigma</th>\n",
       "      <th>LNA all_PS gapmer for Sigma</th>\n",
       "    </tr>\n",
       "  </thead>\n",
       "  <tbody>\n",
       "  </tbody>\n",
       "</table>\n",
       "</div>"
      ],
      "text/plain": [
       "Empty DataFrame\n",
       "Columns: [Target stretch name, Target stretch sequence, Reverse complement, LNA gapmer for IDT and QIAgen, LNA gapmer for Eurogentec, LNA gapmer for Sigma, LNA all_PS gapmer for Sigma]\n",
       "Index: []"
      ]
     },
     "execution_count": 22,
     "metadata": {},
     "output_type": "execute_result"
    }
   ],
   "source": [
    "# Set up an empty dataframe\n",
    "\n",
    "excel_lines = pd.DataFrame(columns=['Target stretch name', 'Target stretch sequence', 'Reverse complement',\n",
    "                                    'LNA gapmer for IDT and QIAgen', 'LNA gapmer for Eurogentec', 'LNA gapmer for Sigma',\n",
    "                                   'LNA all_PS gapmer for Sigma'])\n",
    "excel_lines"
   ]
  },
  {
   "cell_type": "code",
   "execution_count": 23,
   "metadata": {},
   "outputs": [
    {
     "name": "stdout",
     "output_type": "stream",
     "text": [
      "24\n"
     ]
    },
    {
     "data": {
      "text/html": [
       "<div>\n",
       "<style scoped>\n",
       "    .dataframe tbody tr th:only-of-type {\n",
       "        vertical-align: middle;\n",
       "    }\n",
       "\n",
       "    .dataframe tbody tr th {\n",
       "        vertical-align: top;\n",
       "    }\n",
       "\n",
       "    .dataframe thead th {\n",
       "        text-align: right;\n",
       "    }\n",
       "</style>\n",
       "<table border=\"1\" class=\"dataframe\">\n",
       "  <thead>\n",
       "    <tr style=\"text-align: right;\">\n",
       "      <th></th>\n",
       "      <th>Target stretch name</th>\n",
       "      <th>Target stretch sequence</th>\n",
       "      <th>Reverse complement</th>\n",
       "      <th>LNA gapmer for IDT and QIAgen</th>\n",
       "      <th>LNA gapmer for Eurogentec</th>\n",
       "      <th>LNA gapmer for Sigma</th>\n",
       "      <th>LNA all_PS gapmer for Sigma</th>\n",
       "    </tr>\n",
       "  </thead>\n",
       "  <tbody>\n",
       "    <tr>\n",
       "      <th>0</th>\n",
       "      <td>seq_1</td>\n",
       "      <td>ATCGTTCGTAGCTGCTGCTGGTCC</td>\n",
       "      <td>GGACCAGCAGCAGCTACGAACGAT</td>\n",
       "      <td>+G+G+A+CCAGCAGCAGCTACGAA+C+G+A+T</td>\n",
       "      <td>{G}{G}{A}{C}CAGCAGCAGCTACGAA{C}{G}{A}{T}</td>\n",
       "      <td>[+G][+G][+A][+C]CAGCAGCAGCTACGAA[+C][+G][+A][+T]</td>\n",
       "      <td>[+G]*[+G]*[+A]*[+C]*C*A*G*C*A*G*C*A*G*C*T*A*C*...</td>\n",
       "    </tr>\n",
       "  </tbody>\n",
       "</table>\n",
       "</div>"
      ],
      "text/plain": [
       "  Target stretch name   Target stretch sequence        Reverse complement  \\\n",
       "0               seq_1  ATCGTTCGTAGCTGCTGCTGGTCC  GGACCAGCAGCAGCTACGAACGAT   \n",
       "\n",
       "      LNA gapmer for IDT and QIAgen                 LNA gapmer for Eurogentec  \\\n",
       "0  +G+G+A+CCAGCAGCAGCTACGAA+C+G+A+T  {G}{G}{A}{C}CAGCAGCAGCTACGAA{C}{G}{A}{T}   \n",
       "\n",
       "                               LNA gapmer for Sigma  \\\n",
       "0  [+G][+G][+A][+C]CAGCAGCAGCTACGAA[+C][+G][+A][+T]   \n",
       "\n",
       "                         LNA all_PS gapmer for Sigma  \n",
       "0  [+G]*[+G]*[+A]*[+C]*C*A*G*C*A*G*C*A*G*C*T*A*C*...  "
      ]
     },
     "execution_count": 23,
     "metadata": {},
     "output_type": "execute_result"
    }
   ],
   "source": [
    "# Populate the dataframe\n",
    "\n",
    "for x in range(stretch_count):\n",
    "    stretch_name = \"seq_\" + str(x + 1)\n",
    "    reverse_complement = rev_comp(stretches[x])\n",
    "    LNA_gapmer_IDT = LNAse_IDT(reverse_complement)\n",
    "    LNA_gapmer_Eurogentec = LNAse_Eurogentec(reverse_complement)\n",
    "    LNA_gapmer_Sigma = LNAse_Sigma(reverse_complement)\n",
    "    LNA_gapmer_Sigma_PS = LNAse_Sigma_PS(reverse_complement)\n",
    "    new_line = {'Target stretch name': stretch_name, 'Target stretch sequence': stretches[x],\n",
    "                'Reverse complement': reverse_complement, 'LNA gapmer for IDT and QIAgen': LNA_gapmer_IDT,\n",
    "                'LNA gapmer for Eurogentec': LNA_gapmer_Eurogentec, 'LNA gapmer for Sigma': LNA_gapmer_Sigma,\n",
    "               'LNA all_PS gapmer for Sigma': LNA_gapmer_Sigma_PS}\n",
    "    \n",
    "    excel_lines = excel_lines.append(new_line, ignore_index=True)\n",
    "\n",
    "excel_lines"
   ]
  },
  {
   "cell_type": "code",
   "execution_count": 24,
   "metadata": {},
   "outputs": [],
   "source": [
    "# create & save a new Excel spreadsheet\n",
    "\n",
    "# fetch today's date in YYYY-MM-DD format\n",
    "from datetime import datetime\n",
    "date = datetime.today().strftime('%Y-%m-%d')\n",
    "\n",
    "\n",
    "# create a unique file name\n",
    "import os.path\n",
    "\n",
    "x = 1\n",
    "filename = \"Sequence stretches \" + date + \" no\" + str(x) + \".xlsx\"\n",
    "while os.path.isfile(filename):\n",
    "    x += 1\n",
    "    filename = \"Sequence stretches \" + date + \" no\" + str(x) + \".xlsx\"\n",
    "\n",
    "# write out the Excel file\n",
    "excel_lines.to_excel(filename, index=False) "
   ]
  }
 ],
 "metadata": {
  "kernelspec": {
   "display_name": "Python 3",
   "language": "python",
   "name": "python3"
  },
  "language_info": {
   "codemirror_mode": {
    "name": "ipython",
    "version": 3
   },
   "file_extension": ".py",
   "mimetype": "text/x-python",
   "name": "python",
   "nbconvert_exporter": "python",
   "pygments_lexer": "ipython3",
   "version": "3.7.1"
  }
 },
 "nbformat": 4,
 "nbformat_minor": 2
}
