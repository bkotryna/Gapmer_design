{
 "cells": [
  {
   "cell_type": "markdown",
   "metadata": {},
   "source": [
    "# Convert a DNA oligo into a LNA gapmer"
   ]
  },
  {
   "cell_type": "code",
   "execution_count": 1,
   "metadata": {},
   "outputs": [
    {
     "name": "stdout",
     "output_type": "stream",
     "text": [
      "\n",
      "Your nucleic acid sequence:\n",
      "\n",
      "attcgatcgtagcccat\n"
     ]
    }
   ],
   "source": [
    "# Get user sequence\n",
    "\n",
    "user_data = input(\"\\nYour nucleic acid sequence:\\n\\n\")"
   ]
  },
  {
   "cell_type": "code",
   "execution_count": 2,
   "metadata": {},
   "outputs": [
    {
     "name": "stdout",
     "output_type": "stream",
     "text": [
      "The length of your sequence is 17 nt\n",
      "\n"
     ]
    }
   ],
   "source": [
    "# join user sequence into one string\n",
    "seq_string = \"\".join(user_data)\n",
    "\n",
    "#print(\"\\nYour sequence is \", seq_string, \"\\n\", sep=\"\")\n",
    "print(\"The length of your sequence is \", len(seq_string), \" nt\\n\", sep=\"\")"
   ]
  },
  {
   "cell_type": "code",
   "execution_count": 3,
   "metadata": {},
   "outputs": [
    {
     "name": "stdout",
     "output_type": "stream",
     "text": [
      "\n",
      "How many LNA nucleotides on the 5' end?\t4\n",
      "How many LNA nucleotides on the 3' end?\t5\n",
      "\n",
      "Okay, this will leave 8 nt of DNA in the middle of the gapmer.\n"
     ]
    }
   ],
   "source": [
    "# ask how many LNAs to put in\n",
    "\n",
    "LNA_5 = int(input(\"\\nHow many LNA nucleotides on the 5' end?\\t\"))\n",
    "LNA_3 = int(input(\"How many LNA nucleotides on the 3' end?\\t\"))\n",
    "\n",
    "print(\"\\nOkay, this will leave \", len(seq_string) - LNA_5 - LNA_3, \" nt of DNA in the middle of the gapmer.\", sep=\"\")"
   ]
  },
  {
   "cell_type": "code",
   "execution_count": 4,
   "metadata": {},
   "outputs": [],
   "source": [
    "# define function to convert sequence ends to LNA format as requested\n",
    "# in this case, it's IDT and QIAgen format: +A\n",
    "\n",
    "def LNAse_IDT(sequence):\n",
    "    gapmer = \"\"\n",
    "    i = 1\n",
    "    #print(len(sequence))\n",
    "    \n",
    "    while i <= LNA_5:\n",
    "        old_letter = sequence[i-1]\n",
    "        new_letter = \"+\" + old_letter\n",
    "        gapmer += new_letter\n",
    "        i += 1\n",
    "    #print(gapmer)\n",
    "    #print(i)\n",
    "    \n",
    "    while i > LNA_5 and i <= len(sequence) - LNA_3:\n",
    "        old_letter = sequence[i-1]\n",
    "        new_letter = old_letter\n",
    "        gapmer += new_letter\n",
    "        i += 1\n",
    "    #print(gapmer)\n",
    "    #print(i)\n",
    "    \n",
    "    while i >= (len(sequence) - LNA_3 + 1) and i <= len(sequence):\n",
    "        old_letter = sequence[i-1]\n",
    "        new_letter = \"+\" + old_letter\n",
    "        gapmer += new_letter\n",
    "        i += 1\n",
    "    #print(gapmer)\n",
    "    #print(i)\n",
    "    \n",
    "    return gapmer  \n",
    "    "
   ]
  },
  {
   "cell_type": "code",
   "execution_count": 5,
   "metadata": {},
   "outputs": [],
   "source": [
    "# define function to convert sequence ends to LNA format as requested\n",
    "# in this case, it's Eurogentec format: {A}\n",
    "\n",
    "def LNAse_Eurogentec(sequence):\n",
    "    gapmer = \"\"\n",
    "    i = 1\n",
    "    #print(len(sequence))\n",
    "    \n",
    "    while i <= LNA_5:\n",
    "        old_letter = sequence[i-1]\n",
    "        new_letter = \"{\" + old_letter + \"}\"\n",
    "        gapmer += new_letter\n",
    "        i += 1\n",
    "    #print(gapmer)\n",
    "    #print(i)\n",
    "    \n",
    "    while i > LNA_5 and i <= len(sequence) - LNA_3:\n",
    "        old_letter = sequence[i-1]\n",
    "        new_letter = old_letter\n",
    "        gapmer += new_letter\n",
    "        i += 1\n",
    "    #print(gapmer)\n",
    "    #print(i)\n",
    "    \n",
    "    while i >= (len(sequence) - LNA_3 + 1) and i <= len(sequence):\n",
    "        old_letter = sequence[i-1]\n",
    "        new_letter = \"{\" + old_letter + \"}\"\n",
    "        gapmer += new_letter\n",
    "        i += 1\n",
    "    #print(gapmer)\n",
    "    #print(i)\n",
    "    \n",
    "    return gapmer  "
   ]
  },
  {
   "cell_type": "code",
   "execution_count": 6,
   "metadata": {},
   "outputs": [],
   "source": [
    "# define function to convert sequence ends to LNA format as requested\n",
    "# in this case, it's Sigma format: [+A]\n",
    "\n",
    "def LNAse_Sigma(sequence):\n",
    "    gapmer = \"\"\n",
    "    i = 1\n",
    "    #print(len(sequence))\n",
    "    \n",
    "    while i <= LNA_5:\n",
    "        old_letter = sequence[i-1]\n",
    "        new_letter = \"[+\" + old_letter + \"]\"\n",
    "        gapmer += new_letter\n",
    "        i += 1\n",
    "    #print(gapmer)\n",
    "    #print(i)\n",
    "    \n",
    "    while i > LNA_5 and i <= len(sequence) - LNA_3:\n",
    "        old_letter = sequence[i-1]\n",
    "        new_letter = old_letter\n",
    "        gapmer += new_letter\n",
    "        i += 1\n",
    "    #print(gapmer)\n",
    "    #print(i)\n",
    "    \n",
    "    while i >= (len(sequence) - LNA_3 + 1) and i <= len(sequence):\n",
    "        old_letter = sequence[i-1]\n",
    "        new_letter = \"[+\" + old_letter + \"]\"\n",
    "        gapmer += new_letter\n",
    "        i += 1\n",
    "    #print(gapmer)\n",
    "    #print(i)\n",
    "    \n",
    "    return gapmer  "
   ]
  },
  {
   "cell_type": "code",
   "execution_count": 8,
   "metadata": {},
   "outputs": [],
   "source": [
    "LNA_gapmer_IDT = LNAse_IDT(seq_string)\n",
    "LNA_gapmer_Eurogentec = LNAse_Eurogentec(seq_string)\n",
    "LNA_gapmer_Sigma = LNAse_Sigma(seq_string)"
   ]
  },
  {
   "cell_type": "code",
   "execution_count": 10,
   "metadata": {},
   "outputs": [
    {
     "name": "stdout",
     "output_type": "stream",
     "text": [
      "\n",
      "Format for IDT:\n",
      "+a+t+t+cgatcgtag+c+c+c+a+t\n",
      "\n",
      "Format for Eurogentec:\n",
      "{a}{t}{t}{c}gatcgtag{c}{c}{c}{a}{t}\n",
      "\n",
      "Format for Sigma:\n",
      "[+a][+t][+t][+c]gatcgtag[+c][+c][+c][+a][+t]\n"
     ]
    }
   ],
   "source": [
    "print(\"\\nFormat for IDT and QIAgen:\\n\", LNA_gapmer_IDT, sep=\"\")\n",
    "print(\"\\nFormat for Eurogentec:\\n\", LNA_gapmer_Eurogentec, sep=\"\")\n",
    "print(\"\\nFormat for Sigma:\\n\", LNA_gapmer_Sigma, sep=\"\")"
   ]
  }
 ],
 "metadata": {
  "kernelspec": {
   "display_name": "Python 3",
   "language": "python",
   "name": "python3"
  },
  "language_info": {
   "codemirror_mode": {
    "name": "ipython",
    "version": 3
   },
   "file_extension": ".py",
   "mimetype": "text/x-python",
   "name": "python",
   "nbconvert_exporter": "python",
   "pygments_lexer": "ipython3",
   "version": "3.7.1"
  }
 },
 "nbformat": 4,
 "nbformat_minor": 2
}
