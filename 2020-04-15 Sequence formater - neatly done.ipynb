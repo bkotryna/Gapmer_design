{
 "cells": [
  {
   "cell_type": "markdown",
   "metadata": {},
   "source": [
    "# Check & format input nucleic acid sequence"
   ]
  },
  {
   "cell_type": "code",
   "execution_count": 1,
   "metadata": {},
   "outputs": [],
   "source": [
    "# define function to transform input sequence into one neat string of letters\n",
    "# 1) remove line breaks and white spaces\n",
    "# 2) check for special characters => (a) remove, (b) print a warning\n",
    "# 3) check for non-base letetrs => (a) remove, (b) print a warning\n",
    "# 4) check if it's DNA / RNA / a mix => (a) make mix into DNA, (b) print notification on the outcome\n",
    "\n",
    "def seq_formater (user_data):\n",
    "    \n",
    "    import re\n",
    "    \n",
    "    # remove line breaks and white spaces\n",
    "    single_line = user_data.replace('\\n', '')\n",
    "    #print(single_line)\n",
    "    no_spaces = ''.join(single_line.split())\n",
    "    #print(no_spaces)\n",
    "    \n",
    "    \n",
    "    \n",
    "    # check for non-letter characters\n",
    "    \n",
    "    letters_only = re.sub(\"[^a-zA-Z]\", \"\", no_spaces)\n",
    "    if letters_only != no_spaces:\n",
    "        print ('\\nWarning: your sequence contained non-letter characters.\\nThese have now been removed.')\n",
    "    else:\n",
    "        print ('\\nNo special characters in your sequence, yay.')\n",
    "    #print(letters_only)\n",
    "    \n",
    "    \n",
    "    \n",
    "    # check for non-DNA/RNA characters\n",
    "\n",
    "    bases_only = re.sub(\"[^a,A,c,C,g,G,t,T,u,U]\", \"\", letters_only)\n",
    "    if bases_only != letters_only:\n",
    "        print ('\\nWarning: your sequence contained non-base letters. That\\'s concerning.\\nStill, these have now been removed.')\n",
    "    else:\n",
    "        print ('\\nNo non-base letters in your sequence, yay.')\n",
    "    #print(bases_only)\n",
    "    \n",
    "    \n",
    "    \n",
    "    # check for DNA-only or RNA-only characters\n",
    "\n",
    "    DNA_only = re.sub(\"[u,U]\", \"T\", bases_only)\n",
    "    RNA_only = re.sub(\"[t,T]\", \"U\", bases_only)\n",
    "    \n",
    "    if DNA_only == bases_only:\n",
    "        formated_seq = DNA_only\n",
    "        print ('\\nLooks like your submitted sequence is DNA.')\n",
    "    elif RNA_only == bases_only:\n",
    "        formated_seq = RNA_only\n",
    "        print ('\\nLooks like your submitted sequence is RNA.')\n",
    "    else:\n",
    "        formated_seq = DNA_only\n",
    "        print('\\nLooks like your submitted sequence was a mix of RNA and DNA. It\\'s now been converted to DNA.')\n",
    "\n",
    "        \n",
    "        \n",
    "    #print('\\nThe final formated input sequence is:\\n', formated_seq, '\\n')    \n",
    "           \n",
    "        \n",
    "        \n",
    "    return formated_seq"
   ]
  },
  {
   "cell_type": "code",
   "execution_count": 2,
   "metadata": {},
   "outputs": [
    {
     "name": "stdout",
     "output_type": "stream",
     "text": [
      "What's your sequence?\n",
      "[A]*[C]*[T]*[C]*G*G*C*G*T*G*G*C*[C]*[G]*[C]*[G] [T]*[A]*[C]*[T]*C*G*G*C*G*T*G*G*[C]*[C]*[G]*[C] [G]*[T]*[T]*[C]*C*T*A*C*T*C*G*G*[C]*[G]*[T]*[G]\n",
      "\n",
      "Warning: your sequence contained non-letter characters.\n",
      "These have now been removed.\n",
      "\n",
      "No non-base letters in your sequence, yay.\n",
      "\n",
      "Looks like your submitted sequence is DNA.\n",
      "\n",
      "Your final formated input sequence is:\n",
      "ACTCGGCGTGGCCGCGTACTCGGCGTGGCCGCGTTCCTACTCGGCGTG\n",
      "\n"
     ]
    }
   ],
   "source": [
    "user_data = input('What\\'s your sequence?\\n')\n",
    "formated_seq = seq_formater(user_data)\n",
    "\n",
    "print('\\nYour final formated input sequence is:\\n', formated_seq, '\\n', sep='') "
   ]
  }
 ],
 "metadata": {
  "kernelspec": {
   "display_name": "Python 3",
   "language": "python",
   "name": "python3"
  },
  "language_info": {
   "codemirror_mode": {
    "name": "ipython",
    "version": 3
   },
   "file_extension": ".py",
   "mimetype": "text/x-python",
   "name": "python",
   "nbconvert_exporter": "python",
   "pygments_lexer": "ipython3",
   "version": "3.7.1"
  }
 },
 "nbformat": 4,
 "nbformat_minor": 2
}
